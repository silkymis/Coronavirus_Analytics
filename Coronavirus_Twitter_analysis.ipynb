{
  "nbformat": 4,
  "nbformat_minor": 0,
  "metadata": {
    "colab": {
      "name": "Coronavirus Twitter analysis.ipynb",
      "provenance": []
    },
    "kernelspec": {
      "name": "python3",
      "display_name": "Python 3"
    }
  },
  "cells": [
    {
      "cell_type": "markdown",
      "metadata": {
        "id": "u9GrfdOuFEjh"
      },
      "source": [
        "Mount the google drive containing:\n",
        "- twitter.properties file : contains the twitter connection information"
      ]
    },
    {
      "cell_type": "code",
      "metadata": {
        "colab": {
          "base_uri": "https://localhost:8080/"
        },
        "id": "rYqghm68E9eS",
        "outputId": "3c86732f-6810-4694-914f-03059f677b3b"
      },
      "source": [
        "from google.colab import drive\n",
        "drive.mount('/content/drive')"
      ],
      "execution_count": null,
      "outputs": [
        {
          "output_type": "stream",
          "text": [
            "Drive already mounted at /content/drive; to attempt to forcibly remount, call drive.mount(\"/content/drive\", force_remount=True).\n"
          ],
          "name": "stdout"
        }
      ]
    },
    {
      "cell_type": "code",
      "metadata": {
        "colab": {
          "base_uri": "https://localhost:8080/"
        },
        "id": "-HrFQ8a3FuRa",
        "outputId": "f5b466e4-9454-445b-c10a-c4d4a2e0c9aa"
      },
      "source": [
        "!pip install ConfigParser"
      ],
      "execution_count": null,
      "outputs": [
        {
          "output_type": "stream",
          "text": [
            "Requirement already satisfied: ConfigParser in /usr/local/lib/python3.6/dist-packages (5.0.1)\n"
          ],
          "name": "stdout"
        }
      ]
    },
    {
      "cell_type": "markdown",
      "metadata": {
        "id": "uYbLHEpjGHzq"
      },
      "source": [
        "Configparser is a library that is used to read raw or formatted config files (available in key:value format)"
      ]
    },
    {
      "cell_type": "code",
      "metadata": {
        "colab": {
          "base_uri": "https://localhost:8080/"
        },
        "id": "ytYDM02xFzg2",
        "outputId": "f385dd7c-140e-450b-fe86-238ec1ca0577"
      },
      "source": [
        "import configparser\n",
        "config = configparser.RawConfigParser()\n",
        "config.read('/content/drive/My Drive/Colab Notebooks/twitter.properties')\n",
        "\n",
        "print(config.sections())"
      ],
      "execution_count": null,
      "outputs": [
        {
          "output_type": "stream",
          "text": [
            "['twitter']\n"
          ],
          "name": "stdout"
        }
      ]
    },
    {
      "cell_type": "code",
      "metadata": {
        "id": "vxDYDRM_GTew"
      },
      "source": [
        "import os\n",
        "import tweepy as tw"
      ],
      "execution_count": null,
      "outputs": []
    },
    {
      "cell_type": "code",
      "metadata": {
        "id": "3lDggu734Vzb"
      },
      "source": [
        "#user access tokens\n",
        "accesstoken = config.get('twitter','accesstoken')\n",
        "accesstokensecret = config.get('twitter','accesstokensecret')\n",
        "#Consumer API keys\n",
        "apikey = config.get('twitter','apikey')\n",
        "apisecretkey = config.get('twitter','apisecretkey')\n",
        "\n",
        "auth = tw.OAuthHandler(apikey, apisecretkey)\n",
        "auth.set_access_token(accesstoken, accesstokensecret)\n",
        "api = tw.API(auth, wait_on_rate_limit=True)"
      ],
      "execution_count": null,
      "outputs": []
    },
    {
      "cell_type": "code",
      "metadata": {
        "id": "W-hcUUW-5Eyb"
      },
      "source": [
        "search_words = '#coronavirus' #list of keywords to search by. Want to try a combination of queries/keywords? Refer here: https://developer.twitter.com/en/docs/twitter-api/v1/tweets/search/guides/standard-operators\n",
        "date_since = '2021-01-01' #yyyy-mm-dd format"
      ],
      "execution_count": null,
      "outputs": []
    },
    {
      "cell_type": "code",
      "metadata": {
        "id": "HqFbsLCU5EsR"
      },
      "source": [
        "tweets = tw.Cursor(\n",
        "    api.search,\n",
        "    q= search_words,\n",
        "    lang = 'en',\n",
        "    since = date_since\n",
        ").items(100)"
      ],
      "execution_count": null,
      "outputs": []
    },
    {
      "cell_type": "code",
      "metadata": {
        "colab": {
          "base_uri": "https://localhost:8080/",
          "height": 359
        },
        "id": "SF0w57mDFC1o",
        "outputId": "306b08df-9699-43e6-90c5-cbad7fdc8ef2"
      },
      "source": [
        "import pandas as pd\n",
        "#pd.set_option('max_colwidth', 800)\n",
        "tweet_details = [[tweet.geo,tweet.text,tweet.user.screen_name,tweet.user.location] for tweet in tweets]\n",
        "tweet_df = pd.DataFrame(data = tweet_details, columns = ['geo','text','user','location'])\n",
        "tweet_df.head(10)"
      ],
      "execution_count": null,
      "outputs": [
        {
          "output_type": "execute_result",
          "data": {
            "text/html": [
              "<div>\n",
              "<style scoped>\n",
              "    .dataframe tbody tr th:only-of-type {\n",
              "        vertical-align: middle;\n",
              "    }\n",
              "\n",
              "    .dataframe tbody tr th {\n",
              "        vertical-align: top;\n",
              "    }\n",
              "\n",
              "    .dataframe thead th {\n",
              "        text-align: right;\n",
              "    }\n",
              "</style>\n",
              "<table border=\"1\" class=\"dataframe\">\n",
              "  <thead>\n",
              "    <tr style=\"text-align: right;\">\n",
              "      <th></th>\n",
              "      <th>geo</th>\n",
              "      <th>text</th>\n",
              "      <th>user</th>\n",
              "      <th>location</th>\n",
              "    </tr>\n",
              "  </thead>\n",
              "  <tbody>\n",
              "    <tr>\n",
              "      <th>0</th>\n",
              "      <td>None</td>\n",
              "      <td>RT @UR_Ninja: Molly Wentzel, Steve Lahr, Larvi...</td>\n",
              "      <td>esolomon2</td>\n",
              "      <td>Naples, FL</td>\n",
              "    </tr>\n",
              "    <tr>\n",
              "      <th>1</th>\n",
              "      <td>None</td>\n",
              "      <td>Nothing is too difficult for God. Let's join w...</td>\n",
              "      <td>themerry_monk</td>\n",
              "      <td>England.</td>\n",
              "    </tr>\n",
              "    <tr>\n",
              "      <th>2</th>\n",
              "      <td>None</td>\n",
              "      <td>RT @ndmaindia: #COVID19 | While travelling in ...</td>\n",
              "      <td>dr_avtar_singh</td>\n",
              "      <td>Ramnagar, Jammu And Kashmir</td>\n",
              "    </tr>\n",
              "    <tr>\n",
              "      <th>3</th>\n",
              "      <td>None</td>\n",
              "      <td>Airbnb CEO says travel never going back to the...</td>\n",
              "      <td>MusafirNamah</td>\n",
              "      <td>New York, US &amp; Delhi, India</td>\n",
              "    </tr>\n",
              "    <tr>\n",
              "      <th>4</th>\n",
              "      <td>None</td>\n",
              "      <td>RT @WHO: Preliminary investigations conducted ...</td>\n",
              "      <td>chipcamel</td>\n",
              "      <td>Varrock</td>\n",
              "    </tr>\n",
              "    <tr>\n",
              "      <th>5</th>\n",
              "      <td>None</td>\n",
              "      <td>https://t.co/fUaADePSNt\\n\\nThis political sati...</td>\n",
              "      <td>ForNaturism</td>\n",
              "      <td></td>\n",
              "    </tr>\n",
              "    <tr>\n",
              "      <th>6</th>\n",
              "      <td>None</td>\n",
              "      <td>RT @WHO: Preliminary investigations conducted ...</td>\n",
              "      <td>PramodAgni1</td>\n",
              "      <td>New Delhi, India</td>\n",
              "    </tr>\n",
              "    <tr>\n",
              "      <th>7</th>\n",
              "      <td>None</td>\n",
              "      <td>RT @UR_Ninja: Molly Wentzel, Steve Lahr, Larvi...</td>\n",
              "      <td>SchmoopyWoopy</td>\n",
              "      <td>\"Old\" Arizona, USA</td>\n",
              "    </tr>\n",
              "    <tr>\n",
              "      <th>8</th>\n",
              "      <td>None</td>\n",
              "      <td>Editorial: Prevent infections and avoid confus...</td>\n",
              "      <td>The_Japan_News</td>\n",
              "      <td>Tokyo, Japan</td>\n",
              "    </tr>\n",
              "    <tr>\n",
              "      <th>9</th>\n",
              "      <td>None</td>\n",
              "      <td>RT @scotgov: 📺 Watch live: First Minister Nico...</td>\n",
              "      <td>lauravennard1</td>\n",
              "      <td>Edinburgh, Scotland</td>\n",
              "    </tr>\n",
              "  </tbody>\n",
              "</table>\n",
              "</div>"
            ],
            "text/plain": [
              "    geo  ...                     location\n",
              "0  None  ...                   Naples, FL\n",
              "1  None  ...                     England.\n",
              "2  None  ...  Ramnagar, Jammu And Kashmir\n",
              "3  None  ...  New York, US & Delhi, India\n",
              "4  None  ...                      Varrock\n",
              "5  None  ...                             \n",
              "6  None  ...             New Delhi, India\n",
              "7  None  ...           \"Old\" Arizona, USA\n",
              "8  None  ...                 Tokyo, Japan\n",
              "9  None  ...          Edinburgh, Scotland\n",
              "\n",
              "[10 rows x 4 columns]"
            ]
          },
          "metadata": {
            "tags": []
          },
          "execution_count": 17
        }
      ]
    },
    {
      "cell_type": "code",
      "metadata": {
        "colab": {
          "base_uri": "https://localhost:8080/"
        },
        "id": "pAoCv8VWJsVp",
        "outputId": "97213b9a-0e9b-4dd9-a839-8bb8aa4a6ab8"
      },
      "source": [
        "tweet_df.location.value_counts()"
      ],
      "execution_count": null,
      "outputs": [
        {
          "output_type": "execute_result",
          "data": {
            "text/plain": [
              "                               26\n",
              "New York, US & Delhi, India     3\n",
              "canada                          3\n",
              "Perth, Western Australia        2\n",
              "Australia                       2\n",
              "                               ..\n",
              "Taipei City, Taiwan             1\n",
              "Varrock                         1\n",
              "Ampang                          1\n",
              "Martian colony                  1\n",
              "England.                        1\n",
              "Name: location, Length: 67, dtype: int64"
            ]
          },
          "metadata": {
            "tags": []
          },
          "execution_count": 18
        }
      ]
    },
    {
      "cell_type": "markdown",
      "metadata": {
        "id": "SAKKU3NgPFM2"
      },
      "source": [
        "Data cleaning: tweet text"
      ]
    },
    {
      "cell_type": "code",
      "metadata": {
        "colab": {
          "base_uri": "https://localhost:8080/",
          "height": 204
        },
        "id": "KpUsKIZJNn5J",
        "outputId": "d1622522-8c20-41fe-d329-9e43c7ae9624"
      },
      "source": [
        "import re\n",
        "def clean_tweets(text):\n",
        "    text = re.sub(\"RT @[\\w]*:\",\"\",text)\n",
        "    text = re.sub(\"@[\\w]*\",\"\",text)\n",
        "    text = re.sub(\"https?://[A-Za-z0-9./]*\",\"\",text)\n",
        "    text = re.sub(\"\\n\",\"\",text)\n",
        "    return text\n",
        "\n",
        "tweet_df['text'] = tweet_df['text'].apply(lambda x: clean_tweets(x))\n",
        "tweet_df.head()"
      ],
      "execution_count": null,
      "outputs": [
        {
          "output_type": "execute_result",
          "data": {
            "text/html": [
              "<div>\n",
              "<style scoped>\n",
              "    .dataframe tbody tr th:only-of-type {\n",
              "        vertical-align: middle;\n",
              "    }\n",
              "\n",
              "    .dataframe tbody tr th {\n",
              "        vertical-align: top;\n",
              "    }\n",
              "\n",
              "    .dataframe thead th {\n",
              "        text-align: right;\n",
              "    }\n",
              "</style>\n",
              "<table border=\"1\" class=\"dataframe\">\n",
              "  <thead>\n",
              "    <tr style=\"text-align: right;\">\n",
              "      <th></th>\n",
              "      <th>geo</th>\n",
              "      <th>text</th>\n",
              "      <th>user</th>\n",
              "      <th>location</th>\n",
              "    </tr>\n",
              "  </thead>\n",
              "  <tbody>\n",
              "    <tr>\n",
              "      <th>0</th>\n",
              "      <td>None</td>\n",
              "      <td>Molly Wentzel, Steve Lahr, Larvita McFarquhar...</td>\n",
              "      <td>esolomon2</td>\n",
              "      <td>Naples, FL</td>\n",
              "    </tr>\n",
              "    <tr>\n",
              "      <th>1</th>\n",
              "      <td>None</td>\n",
              "      <td>Nothing is too difficult for God. Let's join w...</td>\n",
              "      <td>themerry_monk</td>\n",
              "      <td>England.</td>\n",
              "    </tr>\n",
              "    <tr>\n",
              "      <th>2</th>\n",
              "      <td>None</td>\n",
              "      <td>#COVID19 | While travelling in #publictranspo...</td>\n",
              "      <td>dr_avtar_singh</td>\n",
              "      <td>Ramnagar, Jammu And Kashmir</td>\n",
              "    </tr>\n",
              "    <tr>\n",
              "      <th>3</th>\n",
              "      <td>None</td>\n",
              "      <td>Airbnb CEO says travel never going back to the...</td>\n",
              "      <td>MusafirNamah</td>\n",
              "      <td>New York, US &amp; Delhi, India</td>\n",
              "    </tr>\n",
              "    <tr>\n",
              "      <th>4</th>\n",
              "      <td>None</td>\n",
              "      <td>Preliminary investigations conducted by the C...</td>\n",
              "      <td>chipcamel</td>\n",
              "      <td>Varrock</td>\n",
              "    </tr>\n",
              "  </tbody>\n",
              "</table>\n",
              "</div>"
            ],
            "text/plain": [
              "    geo  ...                     location\n",
              "0  None  ...                   Naples, FL\n",
              "1  None  ...                     England.\n",
              "2  None  ...  Ramnagar, Jammu And Kashmir\n",
              "3  None  ...  New York, US & Delhi, India\n",
              "4  None  ...                      Varrock\n",
              "\n",
              "[5 rows x 4 columns]"
            ]
          },
          "metadata": {
            "tags": []
          },
          "execution_count": 19
        }
      ]
    },
    {
      "cell_type": "code",
      "metadata": {
        "id": "_X7vWQJuR8mN"
      },
      "source": [
        "tweet_df.to_csv('tweets.csv')"
      ],
      "execution_count": null,
      "outputs": []
    },
    {
      "cell_type": "markdown",
      "metadata": {
        "id": "uxpJXQ8sU-wC"
      },
      "source": [
        "##Data Transformation\n",
        "Adding new features"
      ]
    },
    {
      "cell_type": "code",
      "metadata": {
        "id": "Sw_PSyREU2vZ"
      },
      "source": [
        "import spacy\n",
        "nlp = spacy.load('en_core_web_sm')"
      ],
      "execution_count": null,
      "outputs": []
    },
    {
      "cell_type": "code",
      "metadata": {
        "id": "qz9juWSCVXUm"
      },
      "source": [
        "tweet_df['entities'] = tweet_df['text'].apply(lambda x: ['\\tText: {}, Entity: {}'.format(ent.text, ent.label_) if (not ent.text.startswith('#')) else '' for ent in nlp(x).ents])"
      ],
      "execution_count": null,
      "outputs": []
    },
    {
      "cell_type": "code",
      "metadata": {
        "colab": {
          "base_uri": "https://localhost:8080/",
          "height": 204
        },
        "id": "TyZecVVPYgqM",
        "outputId": "5c06959c-8999-4e14-d6ac-40bead150486"
      },
      "source": [
        "tweet_df.head()"
      ],
      "execution_count": null,
      "outputs": [
        {
          "output_type": "execute_result",
          "data": {
            "text/html": [
              "<div>\n",
              "<style scoped>\n",
              "    .dataframe tbody tr th:only-of-type {\n",
              "        vertical-align: middle;\n",
              "    }\n",
              "\n",
              "    .dataframe tbody tr th {\n",
              "        vertical-align: top;\n",
              "    }\n",
              "\n",
              "    .dataframe thead th {\n",
              "        text-align: right;\n",
              "    }\n",
              "</style>\n",
              "<table border=\"1\" class=\"dataframe\">\n",
              "  <thead>\n",
              "    <tr style=\"text-align: right;\">\n",
              "      <th></th>\n",
              "      <th>geo</th>\n",
              "      <th>text</th>\n",
              "      <th>user</th>\n",
              "      <th>location</th>\n",
              "      <th>entities</th>\n",
              "    </tr>\n",
              "  </thead>\n",
              "  <tbody>\n",
              "    <tr>\n",
              "      <th>0</th>\n",
              "      <td>None</td>\n",
              "      <td>Molly Wentzel, Steve Lahr, Larvita McFarquhar...</td>\n",
              "      <td>esolomon2</td>\n",
              "      <td>Naples, FL</td>\n",
              "      <td>[\\tText: Molly Wentzel, Entity: PERSON, \\tText...</td>\n",
              "    </tr>\n",
              "    <tr>\n",
              "      <th>1</th>\n",
              "      <td>None</td>\n",
              "      <td>Nothing is too difficult for God. Let's join w...</td>\n",
              "      <td>themerry_monk</td>\n",
              "      <td>England.</td>\n",
              "      <td>[]</td>\n",
              "    </tr>\n",
              "    <tr>\n",
              "      <th>2</th>\n",
              "      <td>None</td>\n",
              "      <td>#COVID19 | While travelling in #publictranspo...</td>\n",
              "      <td>dr_avtar_singh</td>\n",
              "      <td>Ramnagar, Jammu And Kashmir</td>\n",
              "      <td>[\\tText: StaySafe, Entity: MONEY, ]</td>\n",
              "    </tr>\n",
              "    <tr>\n",
              "      <th>3</th>\n",
              "      <td>None</td>\n",
              "      <td>Airbnb CEO says travel never going back to the...</td>\n",
              "      <td>MusafirNamah</td>\n",
              "      <td>New York, US &amp; Delhi, India</td>\n",
              "      <td>[]</td>\n",
              "    </tr>\n",
              "    <tr>\n",
              "      <th>4</th>\n",
              "      <td>None</td>\n",
              "      <td>Preliminary investigations conducted by the C...</td>\n",
              "      <td>chipcamel</td>\n",
              "      <td>Varrock</td>\n",
              "      <td>[\\tText: Chinese, Entity: NORP]</td>\n",
              "    </tr>\n",
              "  </tbody>\n",
              "</table>\n",
              "</div>"
            ],
            "text/plain": [
              "    geo  ...                                           entities\n",
              "0  None  ...  [\\tText: Molly Wentzel, Entity: PERSON, \\tText...\n",
              "1  None  ...                                                 []\n",
              "2  None  ...                [\\tText: StaySafe, Entity: MONEY, ]\n",
              "3  None  ...                                                 []\n",
              "4  None  ...                    [\\tText: Chinese, Entity: NORP]\n",
              "\n",
              "[5 rows x 5 columns]"
            ]
          },
          "metadata": {
            "tags": []
          },
          "execution_count": 23
        }
      ]
    },
    {
      "cell_type": "code",
      "metadata": {
        "colab": {
          "base_uri": "https://localhost:8080/"
        },
        "id": "uR0bGXTFYy4h",
        "outputId": "42d2f1c5-d7ab-42a2-81a0-a00d7fc59a62"
      },
      "source": [
        "import nltk\n",
        "from nltk.sentiment.vader import SentimentIntensityAnalyzer\n",
        "nltk.download('vader_lexicon')"
      ],
      "execution_count": null,
      "outputs": [
        {
          "output_type": "stream",
          "text": [
            "[nltk_data] Downloading package vader_lexicon to /root/nltk_data...\n"
          ],
          "name": "stdout"
        },
        {
          "output_type": "stream",
          "text": [
            "/usr/local/lib/python3.6/dist-packages/nltk/twitter/__init__.py:20: UserWarning: The twython library has not been installed. Some functionality from the twitter package will not be available.\n",
            "  warnings.warn(\"The twython library has not been installed. \"\n"
          ],
          "name": "stderr"
        },
        {
          "output_type": "execute_result",
          "data": {
            "text/plain": [
              "True"
            ]
          },
          "metadata": {
            "tags": []
          },
          "execution_count": 24
        }
      ]
    },
    {
      "cell_type": "markdown",
      "metadata": {
        "id": "40s2_Z31ZvX0"
      },
      "source": [
        "vader package is an inbuilt package in nltk for sentiment analysis and generates polarity based on sentiment of text"
      ]
    },
    {
      "cell_type": "code",
      "metadata": {
        "id": "3H2XYTPmZr4Q"
      },
      "source": [
        "sid = SentimentIntensityAnalyzer()"
      ],
      "execution_count": null,
      "outputs": []
    },
    {
      "cell_type": "code",
      "metadata": {
        "colab": {
          "base_uri": "https://localhost:8080/",
          "height": 289
        },
        "id": "LElvWUT8bP7S",
        "outputId": "ca587090-b53f-4b51-fbd4-48417aaeabf6"
      },
      "source": [
        "tweet_df['sentiment']=tweet_df['text'].apply(lambda x: sid.polarity_scores(x))\n",
        "\n",
        "tweet_df.head(5)"
      ],
      "execution_count": null,
      "outputs": [
        {
          "output_type": "execute_result",
          "data": {
            "text/html": [
              "<div>\n",
              "<style scoped>\n",
              "    .dataframe tbody tr th:only-of-type {\n",
              "        vertical-align: middle;\n",
              "    }\n",
              "\n",
              "    .dataframe tbody tr th {\n",
              "        vertical-align: top;\n",
              "    }\n",
              "\n",
              "    .dataframe thead th {\n",
              "        text-align: right;\n",
              "    }\n",
              "</style>\n",
              "<table border=\"1\" class=\"dataframe\">\n",
              "  <thead>\n",
              "    <tr style=\"text-align: right;\">\n",
              "      <th></th>\n",
              "      <th>geo</th>\n",
              "      <th>text</th>\n",
              "      <th>user</th>\n",
              "      <th>location</th>\n",
              "      <th>entities</th>\n",
              "      <th>sentiment</th>\n",
              "    </tr>\n",
              "  </thead>\n",
              "  <tbody>\n",
              "    <tr>\n",
              "      <th>0</th>\n",
              "      <td>None</td>\n",
              "      <td>Molly Wentzel, Steve Lahr, Larvita McFarquhar...</td>\n",
              "      <td>esolomon2</td>\n",
              "      <td>Naples, FL</td>\n",
              "      <td>[\\tText: Molly Wentzel, Entity: PERSON, \\tText...</td>\n",
              "      <td>{'neg': 0.0, 'neu': 1.0, 'pos': 0.0, 'compound...</td>\n",
              "    </tr>\n",
              "    <tr>\n",
              "      <th>1</th>\n",
              "      <td>None</td>\n",
              "      <td>Nothing is too difficult for God. Let's join w...</td>\n",
              "      <td>themerry_monk</td>\n",
              "      <td>England.</td>\n",
              "      <td>[]</td>\n",
              "      <td>{'neg': 0.0, 'neu': 0.597, 'pos': 0.403, 'comp...</td>\n",
              "    </tr>\n",
              "    <tr>\n",
              "      <th>2</th>\n",
              "      <td>None</td>\n",
              "      <td>#COVID19 | While travelling in #publictranspo...</td>\n",
              "      <td>dr_avtar_singh</td>\n",
              "      <td>Ramnagar, Jammu And Kashmir</td>\n",
              "      <td>[\\tText: StaySafe, Entity: MONEY, ]</td>\n",
              "      <td>{'neg': 0.0, 'neu': 0.874, 'pos': 0.126, 'comp...</td>\n",
              "    </tr>\n",
              "    <tr>\n",
              "      <th>3</th>\n",
              "      <td>None</td>\n",
              "      <td>Airbnb CEO says travel never going back to the...</td>\n",
              "      <td>MusafirNamah</td>\n",
              "      <td>New York, US &amp; Delhi, India</td>\n",
              "      <td>[]</td>\n",
              "      <td>{'neg': 0.0, 'neu': 1.0, 'pos': 0.0, 'compound...</td>\n",
              "    </tr>\n",
              "    <tr>\n",
              "      <th>4</th>\n",
              "      <td>None</td>\n",
              "      <td>Preliminary investigations conducted by the C...</td>\n",
              "      <td>chipcamel</td>\n",
              "      <td>Varrock</td>\n",
              "      <td>[\\tText: Chinese, Entity: NORP]</td>\n",
              "      <td>{'neg': 0.111, 'neu': 0.758, 'pos': 0.131, 'co...</td>\n",
              "    </tr>\n",
              "  </tbody>\n",
              "</table>\n",
              "</div>"
            ],
            "text/plain": [
              "    geo  ...                                          sentiment\n",
              "0  None  ...  {'neg': 0.0, 'neu': 1.0, 'pos': 0.0, 'compound...\n",
              "1  None  ...  {'neg': 0.0, 'neu': 0.597, 'pos': 0.403, 'comp...\n",
              "2  None  ...  {'neg': 0.0, 'neu': 0.874, 'pos': 0.126, 'comp...\n",
              "3  None  ...  {'neg': 0.0, 'neu': 1.0, 'pos': 0.0, 'compound...\n",
              "4  None  ...  {'neg': 0.111, 'neu': 0.758, 'pos': 0.131, 'co...\n",
              "\n",
              "[5 rows x 6 columns]"
            ]
          },
          "metadata": {
            "tags": []
          },
          "execution_count": 26
        }
      ]
    },
    {
      "cell_type": "code",
      "metadata": {
        "colab": {
          "base_uri": "https://localhost:8080/"
        },
        "id": "1Ngv42BidoBI",
        "outputId": "2076d184-71aa-491d-ee04-451dc69fc2bd"
      },
      "source": [
        "!pip install googlemaps"
      ],
      "execution_count": null,
      "outputs": [
        {
          "output_type": "stream",
          "text": [
            "Collecting googlemaps\n",
            "  Downloading https://files.pythonhosted.org/packages/00/fa/508909813a3f0ff969d341695ee0b90cb0e954b4b536f17f15cc19b5c304/googlemaps-4.4.2.tar.gz\n",
            "Requirement already satisfied: requests<3.0,>=2.20.0 in /usr/local/lib/python3.6/dist-packages (from googlemaps) (2.23.0)\n",
            "Requirement already satisfied: idna<3,>=2.5 in /usr/local/lib/python3.6/dist-packages (from requests<3.0,>=2.20.0->googlemaps) (2.10)\n",
            "Requirement already satisfied: chardet<4,>=3.0.2 in /usr/local/lib/python3.6/dist-packages (from requests<3.0,>=2.20.0->googlemaps) (3.0.4)\n",
            "Requirement already satisfied: urllib3!=1.25.0,!=1.25.1,<1.26,>=1.21.1 in /usr/local/lib/python3.6/dist-packages (from requests<3.0,>=2.20.0->googlemaps) (1.24.3)\n",
            "Requirement already satisfied: certifi>=2017.4.17 in /usr/local/lib/python3.6/dist-packages (from requests<3.0,>=2.20.0->googlemaps) (2020.12.5)\n",
            "Building wheels for collected packages: googlemaps\n",
            "  Building wheel for googlemaps (setup.py) ... \u001b[?25l\u001b[?25hdone\n",
            "  Created wheel for googlemaps: filename=googlemaps-4.4.2-cp36-none-any.whl size=37858 sha256=1825a59afea45f7342bebc8df9b5101973a6c44a1568107fb961d0d0dfe94e0c\n",
            "  Stored in directory: /root/.cache/pip/wheels/f4/21/41/0c84572e21d52bb322f6c299f38ac7cd8ad6d4d6ce23dc3631\n",
            "Successfully built googlemaps\n",
            "Installing collected packages: googlemaps\n",
            "Successfully installed googlemaps-4.4.2\n"
          ],
          "name": "stdout"
        }
      ]
    },
    {
      "cell_type": "code",
      "metadata": {
        "id": "D8WL-2PobdJq"
      },
      "source": [
        "import googlemaps"
      ],
      "execution_count": null,
      "outputs": []
    },
    {
      "cell_type": "code",
      "metadata": {
        "colab": {
          "base_uri": "https://localhost:8080/"
        },
        "id": "zdsQnKbddtKm",
        "outputId": "49a7e70f-85c0-4442-b921-f820e56a0326"
      },
      "source": [
        "gmaps = googlemaps.Client(key=config.get('twitter', 'googleapikey'))\n",
        "\n",
        "geocode_result = gmaps.geocode(tweet_df['location'][0])\n",
        "\n",
        "print(geocode_result)\n",
        "print(geocode_result[0]['formatted_address'])\n",
        "\n",
        "print(geocode_result[0]['formatted_address'].split(\",\")[-1].strip())"
      ],
      "execution_count": null,
      "outputs": [
        {
          "output_type": "stream",
          "text": [
            "[{'address_components': [{'long_name': 'Naples', 'short_name': 'Naples', 'types': ['locality', 'political']}, {'long_name': 'Collier County', 'short_name': 'Collier County', 'types': ['administrative_area_level_2', 'political']}, {'long_name': 'Florida', 'short_name': 'FL', 'types': ['administrative_area_level_1', 'political']}, {'long_name': 'United States', 'short_name': 'US', 'types': ['country', 'political']}], 'formatted_address': 'Naples, FL, USA', 'geometry': {'bounds': {'northeast': {'lat': 26.211242, 'lng': -81.766661}, 'southwest': {'lat': 26.078572, 'lng': -81.8224189}}, 'location': {'lat': 26.1420358, 'lng': -81.7948103}, 'location_type': 'APPROXIMATE', 'viewport': {'northeast': {'lat': 26.211242, 'lng': -81.766661}, 'southwest': {'lat': 26.078572, 'lng': -81.8224189}}}, 'place_id': 'ChIJrdfCc5vh2ogRqpos1xhTP2c', 'types': ['locality', 'political']}]\n",
            "Naples, FL, USA\n",
            "USA\n"
          ],
          "name": "stdout"
        }
      ]
    },
    {
      "cell_type": "code",
      "metadata": {
        "colab": {
          "base_uri": "https://localhost:8080/",
          "height": 289
        },
        "id": "dDYVFGbVt2xQ",
        "outputId": "f4638a96-e91e-4a48-9fa8-3f0db8c53884"
      },
      "source": [
        "def get_country(input):\n",
        "  try:\n",
        "    output=gmaps.geocode(input)[0]['formatted_address'].split(\",\")[-1].strip()\n",
        "  except:\n",
        "    output=\"Error\"\n",
        "  return output\n",
        "\n",
        "tweet_df['country'] = tweet_df['location'].apply(lambda x: \"\" if (not x.strip()) else get_country(x))\n",
        "tweet_df.head()"
      ],
      "execution_count": null,
      "outputs": [
        {
          "output_type": "execute_result",
          "data": {
            "text/html": [
              "<div>\n",
              "<style scoped>\n",
              "    .dataframe tbody tr th:only-of-type {\n",
              "        vertical-align: middle;\n",
              "    }\n",
              "\n",
              "    .dataframe tbody tr th {\n",
              "        vertical-align: top;\n",
              "    }\n",
              "\n",
              "    .dataframe thead th {\n",
              "        text-align: right;\n",
              "    }\n",
              "</style>\n",
              "<table border=\"1\" class=\"dataframe\">\n",
              "  <thead>\n",
              "    <tr style=\"text-align: right;\">\n",
              "      <th></th>\n",
              "      <th>geo</th>\n",
              "      <th>text</th>\n",
              "      <th>user</th>\n",
              "      <th>location</th>\n",
              "      <th>entities</th>\n",
              "      <th>sentiment</th>\n",
              "      <th>country</th>\n",
              "    </tr>\n",
              "  </thead>\n",
              "  <tbody>\n",
              "    <tr>\n",
              "      <th>0</th>\n",
              "      <td>None</td>\n",
              "      <td>Molly Wentzel, Steve Lahr, Larvita McFarquhar...</td>\n",
              "      <td>esolomon2</td>\n",
              "      <td>Naples, FL</td>\n",
              "      <td>[\\tText: Molly Wentzel, Entity: PERSON, \\tText...</td>\n",
              "      <td>{'neg': 0.0, 'neu': 1.0, 'pos': 0.0, 'compound...</td>\n",
              "      <td>USA</td>\n",
              "    </tr>\n",
              "    <tr>\n",
              "      <th>1</th>\n",
              "      <td>None</td>\n",
              "      <td>Nothing is too difficult for God. Let's join w...</td>\n",
              "      <td>themerry_monk</td>\n",
              "      <td>England.</td>\n",
              "      <td>[]</td>\n",
              "      <td>{'neg': 0.0, 'neu': 0.597, 'pos': 0.403, 'comp...</td>\n",
              "      <td>UK</td>\n",
              "    </tr>\n",
              "    <tr>\n",
              "      <th>2</th>\n",
              "      <td>None</td>\n",
              "      <td>#COVID19 | While travelling in #publictranspo...</td>\n",
              "      <td>dr_avtar_singh</td>\n",
              "      <td>Ramnagar, Jammu And Kashmir</td>\n",
              "      <td>[\\tText: StaySafe, Entity: MONEY, ]</td>\n",
              "      <td>{'neg': 0.0, 'neu': 0.874, 'pos': 0.126, 'comp...</td>\n",
              "      <td>Ramnagar 182122</td>\n",
              "    </tr>\n",
              "    <tr>\n",
              "      <th>3</th>\n",
              "      <td>None</td>\n",
              "      <td>Airbnb CEO says travel never going back to the...</td>\n",
              "      <td>MusafirNamah</td>\n",
              "      <td>New York, US &amp; Delhi, India</td>\n",
              "      <td>[]</td>\n",
              "      <td>{'neg': 0.0, 'neu': 1.0, 'pos': 0.0, 'compound...</td>\n",
              "      <td>Error</td>\n",
              "    </tr>\n",
              "    <tr>\n",
              "      <th>4</th>\n",
              "      <td>None</td>\n",
              "      <td>Preliminary investigations conducted by the C...</td>\n",
              "      <td>chipcamel</td>\n",
              "      <td>Varrock</td>\n",
              "      <td>[\\tText: Chinese, Entity: NORP]</td>\n",
              "      <td>{'neg': 0.111, 'neu': 0.758, 'pos': 0.131, 'co...</td>\n",
              "      <td>Error</td>\n",
              "    </tr>\n",
              "  </tbody>\n",
              "</table>\n",
              "</div>"
            ],
            "text/plain": [
              "    geo  ...          country\n",
              "0  None  ...              USA\n",
              "1  None  ...               UK\n",
              "2  None  ...  Ramnagar 182122\n",
              "3  None  ...            Error\n",
              "4  None  ...            Error\n",
              "\n",
              "[5 rows x 7 columns]"
            ]
          },
          "metadata": {
            "tags": []
          },
          "execution_count": 32
        }
      ]
    },
    {
      "cell_type": "code",
      "metadata": {
        "colab": {
          "base_uri": "https://localhost:8080/"
        },
        "id": "lVA-ktgLuSee",
        "outputId": "b031ea78-6dad-4602-efbf-be1350fdd633"
      },
      "source": [
        "tweet_df['country'].value_counts()"
      ],
      "execution_count": null,
      "outputs": [
        {
          "output_type": "execute_result",
          "data": {
            "text/plain": [
              "USA                                             34\n",
              "                                                26\n",
              "Error                                           11\n",
              "Canada                                           6\n",
              "India                                            4\n",
              "Australia                                        4\n",
              "UK                                               4\n",
              "Pakistan                                         2\n",
              "Ramnagar 182122                                  1\n",
              "Taiwan 406                                       1\n",
              "Thailand                                         1\n",
              "44050 Fawn Creek Township/Battalgazi/Malatya     1\n",
              "Malaysia                                         1\n",
              "Taiwan                                           1\n",
              "Japan                                            1\n",
              "Bahrain                                          1\n",
              "Indonesia                                        1\n",
              "Name: country, dtype: int64"
            ]
          },
          "metadata": {
            "tags": []
          },
          "execution_count": 33
        }
      ]
    },
    {
      "cell_type": "code",
      "metadata": {
        "id": "0vSiflt5ucGS"
      },
      "source": [
        "tweet_df.to_csv('tweets.csv')"
      ],
      "execution_count": null,
      "outputs": []
    }
  ]
}